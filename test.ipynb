{
 "cells": [
  {
   "cell_type": "code",
   "execution_count": null,
   "id": "c91472c0",
   "metadata": {},
   "outputs": [
    {
     "name": "stdout",
     "output_type": "stream",
     "text": [
      "最佳參數 (F1): {'clf__n_estimators': 200, 'clf__min_samples_split': 2, 'clf__max_depth': None}\n",
      "{'accuracy': 1.0, 'precision': 1.0, 'recall': 1.0, 'f1': 1.0, 'roc_auc': np.float64(1.0), 'report': '              precision    recall  f1-score   support\\n\\n           0     1.0000    1.0000    1.0000       569\\n           1     1.0000    1.0000    1.0000       211\\n\\n    accuracy                         1.0000       780\\n   macro avg     1.0000    1.0000    1.0000       780\\nweighted avg     1.0000    1.0000    1.0000       780\\n'}\n"
     ]
    }
   ],
   "source": [
    "import importlib, utils_shopping\n",
    "importlib.reload(utils_shopping)\n",
    "from utils_shopping import load_and_clean, split_xy, train_and_eval\n",
    "\n",
    "#分類\n",
    "df = load_and_clean(\"Shopping Trends And Customer Behaviour Dataset.csv\")\n",
    "X, y = split_xy(df, target=\"Subscription Status\")   # 二元或多分類都可以\n",
    "res = train_and_eval(X, y, task=\"classification\", model=\"rf\", tune=True, n_iter=20)\n",
    "print(res[\"metrics\"])\n"
   ]
  },
  {
   "cell_type": "code",
   "execution_count": null,
   "id": "7f93e54f",
   "metadata": {},
   "outputs": [
    {
     "name": "stdout",
     "output_type": "stream",
     "text": [
      "最佳參數 (RMSE): {'clf__n_estimators': 300, 'clf__min_samples_split': 5, 'clf__max_depth': 5}\n",
      "{'mae': 0.6438648773932689, 'rmse': 0.7354280994311506, 'r2': 0.008080625882918357}\n"
     ]
    }
   ],
   "source": [
    "#迴歸\n",
    "df = load_and_clean(\"Shopping Trends And Customer Behaviour Dataset.csv\")\n",
    "X, y = split_xy(df, target=\"Review Rating\")   # 連續數值目標\n",
    "res = train_and_eval(X, y, task=\"regression\", model=\"rf\", tune=True, n_iter=20)\n",
    "print(res[\"metrics\"])   # mae / rmse / r2\n"
   ]
  },
  {
   "cell_type": "code",
   "execution_count": null,
   "id": "4b0a87b2",
   "metadata": {},
   "outputs": [],
   "source": []
  }
 ],
 "metadata": {
  "kernelspec": {
   "display_name": "base",
   "language": "python",
   "name": "python3"
  },
  "language_info": {
   "codemirror_mode": {
    "name": "ipython",
    "version": 3
   },
   "file_extension": ".py",
   "mimetype": "text/x-python",
   "name": "python",
   "nbconvert_exporter": "python",
   "pygments_lexer": "ipython3",
   "version": "3.13.5"
  }
 },
 "nbformat": 4,
 "nbformat_minor": 5
}
